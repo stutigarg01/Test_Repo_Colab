{
 "cells": [
  {
   "cell_type": "code",
   "execution_count": 1,
   "id": "ed0b8b7d-e802-4a18-a148-a1c4ecb74849",
   "metadata": {},
   "outputs": [],
   "source": [
    "# # First, we need to install the required packages. Run the following cell to install requests and pandas if they are not already installed.\n",
    "# # Install the necessary packages\n",
    "# !pip install requests pandas"
   ]
  },
  {
   "cell_type": "code",
   "execution_count": 2,
   "id": "de1bbf4b-3cdd-49cf-b41f-5c751f45a69a",
   "metadata": {},
   "outputs": [],
   "source": [
    "# Next, we import the necessary libraries.\n",
    "# Import the requests library to handle HTTP requests\n",
    "import requests\n",
    "\n",
    "# Import the pandas library to handle data in a tabular format\n",
    "import pandas as pd"
   ]
  },
  {
   "cell_type": "code",
   "execution_count": 3,
   "id": "afdba56b-8130-4df7-acbb-82edb520cd50",
   "metadata": {},
   "outputs": [
    {
     "name": "stdout",
     "output_type": "stream",
     "text": [
      "Fetched JSON data:\n",
      "[{'id': 'bitcoin', 'symbol': 'btc', 'name': 'Bitcoin', 'image': 'https://coin-images.coingecko.com/coins/images/1/large/bitcoin.png?1696501400', 'current_price': 62201, 'market_cap': 1235459203282, 'market_cap_rank': 1, 'fully_diluted_valuation': 1314495431954, 'total_volume': 42447934504, 'high_24h': 61968, 'low_24h': 54849, 'price_change_24h': 6882.82, 'price_change_percentage_24h': 12.44229, 'market_cap_change_24h': 144694760297, 'market_cap_change_percentage_24h': 13.26545, 'circulating_supply': 19737340.0, 'total_supply': 21000000.0, 'max_supply': 21000000.0, 'ath': 73738, 'ath_change_percentage': -15.30698, 'ath_date': '2024-03-14T07:10:36.635Z', 'atl': 67.81, 'atl_change_percentage': 91998.2227, 'atl_date': '2013-07-06T00:00:00.000Z', 'roi': None, 'last_updated': '2024-08-08T23:05:26.424Z'}, {'id': 'ethereum', 'symbol': 'eth', 'name': 'Ethereum', 'image': 'https://coin-images.coingecko.com/coins/images/279/large/ethereum.png?1696501628', 'current_price': 2698.34, 'market_cap': 326378376556, 'market_cap_rank': 2, 'fully_diluted_valuation': 326378376556, 'total_volume': 21684992441, 'high_24h': 2689.32, 'low_24h': 2326.03, 'price_change_24h': 341.0, 'price_change_percentage_24h': 14.46534, 'market_cap_change_24h': 43215757237, 'market_cap_change_percentage_24h': 15.26182, 'circulating_supply': 120261233.89225, 'total_supply': 120261233.89225, 'max_supply': None, 'ath': 4878.26, 'ath_change_percentage': -44.27122, 'ath_date': '2021-11-10T14:24:19.604Z', 'atl': 0.432979, 'atl_change_percentage': 627781.68141, 'atl_date': '2015-10-20T00:00:00.000Z', 'roi': {'times': 56.91365766154462, 'currency': 'btc', 'percentage': 5691.365766154461}, 'last_updated': '2024-08-08T23:05:25.822Z'}, {'id': 'tether', 'symbol': 'usdt', 'name': 'Tether', 'image': 'https://coin-images.coingecko.com/coins/images/325/large/Tether.png?1696501661', 'current_price': 0.998868, 'market_cap': 114822718275, 'market_cap_rank': 3, 'fully_diluted_valuation': 114822718275, 'total_volume': 41412150118, 'high_24h': 1.008, 'low_24h': 0.997169, 'price_change_24h': -0.002282255869412553, 'price_change_percentage_24h': -0.22796, 'market_cap_change_24h': 293006409, 'market_cap_change_percentage_24h': 0.25583, 'circulating_supply': 115017869041.692, 'total_supply': 115017869041.692, 'max_supply': None, 'ath': 1.32, 'ath_change_percentage': -24.17371, 'ath_date': '2018-07-24T00:00:00.000Z', 'atl': 0.572521, 'atl_change_percentage': 75.23446, 'atl_date': '2015-03-02T00:00:00.000Z', 'roi': None, 'last_updated': '2024-08-08T23:05:25.333Z'}, {'id': 'binancecoin', 'symbol': 'bnb', 'name': 'BNB', 'image': 'https://coin-images.coingecko.com/coins/images/825/large/bnb-icon2_2x.png?1696501970', 'current_price': 520.87, 'market_cap': 76505024397, 'market_cap_rank': 4, 'fully_diluted_valuation': 76505024397, 'total_volume': 926989377, 'high_24h': 519.65, 'low_24h': 470.35, 'price_change_24h': 44.77, 'price_change_percentage_24h': 9.40239, 'market_cap_change_24h': 7051375011, 'market_cap_change_percentage_24h': 10.15263, 'circulating_supply': 145887575.79, 'total_supply': 145887575.79, 'max_supply': 200000000.0, 'ath': 717.48, 'ath_change_percentage': -27.0879, 'ath_date': '2024-06-06T14:10:59.816Z', 'atl': 0.0398177, 'atl_change_percentage': 1313703.68473, 'atl_date': '2017-10-19T00:00:00.000Z', 'roi': None, 'last_updated': '2024-08-08T23:05:24.518Z'}, {'id': 'solana', 'symbol': 'sol', 'name': 'Solana', 'image': 'https://coin-images.coingecko.com/coins/images/4128/large/solana.png?1718769756', 'current_price': 162.0, 'market_cap': 75586645096, 'market_cap_rank': 5, 'fully_diluted_valuation': 94300463783, 'total_volume': 6892660312, 'high_24h': 162.36, 'low_24h': 142.38, 'price_change_24h': 16.18, 'price_change_percentage_24h': 11.09981, 'market_cap_change_24h': 7677392012, 'market_cap_change_percentage_24h': 11.30537, 'circulating_supply': 466340820.550856, 'total_supply': 581797956.543717, 'max_supply': None, 'ath': 259.96, 'ath_change_percentage': -37.61044, 'ath_date': '2021-11-06T21:54:35.825Z', 'atl': 0.500801, 'atl_change_percentage': 32285.59012, 'atl_date': '2020-05-11T19:35:23.449Z', 'roi': None, 'last_updated': '2024-08-08T23:05:10.024Z'}, {'id': 'ripple', 'symbol': 'xrp', 'name': 'XRP', 'image': 'https://coin-images.coingecko.com/coins/images/44/large/xrp-symbol-white-128.png?1696501442', 'current_price': 0.614644, 'market_cap': 34577933609, 'market_cap_rank': 6, 'fully_diluted_valuation': 61623667063, 'total_volume': 3610360150, 'high_24h': 0.641512, 'low_24h': 0.583623, 'price_change_24h': 0.00344547, 'price_change_percentage_24h': 0.56372, 'market_cap_change_24h': 284183985, 'market_cap_change_percentage_24h': 0.82868, 'circulating_supply': 56104361423.0, 'total_supply': 99987365591.0, 'max_supply': 100000000000.0, 'ath': 3.4, 'ath_change_percentage': -81.86483, 'ath_date': '2018-01-07T00:00:00.000Z', 'atl': 0.00268621, 'atl_change_percentage': 22843.67545, 'atl_date': '2014-05-22T00:00:00.000Z', 'roi': None, 'last_updated': '2024-08-08T23:04:48.368Z'}, {'id': 'usd-coin', 'symbol': 'usdc', 'name': 'USDC', 'image': 'https://coin-images.coingecko.com/coins/images/6319/large/usdc.png?1696506694', 'current_price': 0.998831, 'market_cap': 34567435920, 'market_cap_rank': 7, 'fully_diluted_valuation': 34590624557, 'total_volume': 6514539371, 'high_24h': 1.009, 'low_24h': 0.994941, 'price_change_24h': -0.002502165360395492, 'price_change_percentage_24h': -0.24988, 'market_cap_change_24h': 56472050, 'market_cap_change_percentage_24h': 0.16364, 'circulating_supply': 34510147585.2038, 'total_supply': 34533297791.1947, 'max_supply': None, 'ath': 1.17, 'ath_change_percentage': -14.57243, 'ath_date': '2019-05-08T00:40:28.300Z', 'atl': 0.877647, 'atl_change_percentage': 14.1478, 'atl_date': '2023-03-11T08:02:13.981Z', 'roi': None, 'last_updated': '2024-08-08T23:05:25.738Z'}, {'id': 'staked-ether', 'symbol': 'steth', 'name': 'Lido Staked Ether', 'image': 'https://coin-images.coingecko.com/coins/images/13442/large/steth_logo.png?1696513206', 'current_price': 2703.16, 'market_cap': 26866795434, 'market_cap_rank': 8, 'fully_diluted_valuation': 26866795434, 'total_volume': 98112690, 'high_24h': 2710.57, 'low_24h': 2324.98, 'price_change_24h': 342.37, 'price_change_percentage_24h': 14.50257, 'market_cap_change_24h': 3740291768, 'market_cap_change_percentage_24h': 16.17318, 'circulating_supply': 9809890.87009927, 'total_supply': 9809890.87009927, 'max_supply': None, 'ath': 4829.57, 'ath_change_percentage': -43.08912, 'ath_date': '2021-11-10T14:40:47.256Z', 'atl': 482.9, 'atl_change_percentage': 469.18046, 'atl_date': '2020-12-22T04:08:21.854Z', 'roi': None, 'last_updated': '2024-08-08T23:04:39.486Z'}, {'id': 'dogecoin', 'symbol': 'doge', 'name': 'Dogecoin', 'image': 'https://coin-images.coingecko.com/coins/images/5/large/dogecoin.png?1696501409', 'current_price': 0.10715, 'market_cap': 15665400962, 'market_cap_rank': 9, 'fully_diluted_valuation': 15670361028, 'total_volume': 843217707, 'high_24h': 0.107036, 'low_24h': 0.094086, 'price_change_24h': 0.01120398, 'price_change_percentage_24h': 11.67735, 'market_cap_change_24h': 1711371136, 'market_cap_change_percentage_24h': 12.26435, 'circulating_supply': 145408356383.705, 'total_supply': 145454396383.705, 'max_supply': None, 'ath': 0.731578, 'ath_change_percentage': -85.2636, 'ath_date': '2021-05-08T05:08:23.458Z', 'atl': 8.69e-05, 'atl_change_percentage': 123954.81433, 'atl_date': '2015-05-06T00:00:00.000Z', 'roi': None, 'last_updated': '2024-08-08T23:05:04.319Z'}, {'id': 'the-open-network', 'symbol': 'ton', 'name': 'Toncoin', 'image': 'https://coin-images.coingecko.com/coins/images/17980/large/ton_symbol.png?1696517498', 'current_price': 6.19, 'market_cap': 15584898834, 'market_cap_rank': 10, 'fully_diluted_valuation': 31624977470, 'total_volume': 326421232, 'high_24h': 6.41, 'low_24h': 5.4, 'price_change_24h': 0.748327, 'price_change_percentage_24h': 13.73969, 'market_cap_change_24h': 1868705252, 'market_cap_change_percentage_24h': 13.62408, 'circulating_supply': 2518322965.24233, 'total_supply': 5110197241.96414, 'max_supply': None, 'ath': 8.25, 'ath_change_percentage': -24.98101, 'ath_date': '2024-06-15T00:36:51.509Z', 'atl': 0.519364, 'atl_change_percentage': 1092.18414, 'atl_date': '2021-09-21T00:33:11.092Z', 'roi': None, 'last_updated': '2024-08-08T23:04:35.539Z'}]\n"
     ]
    }
   ],
   "source": [
    "# We'll fetch cryptocurrency data from the CoinGecko API and display the JSON data.\n",
    "# Set the URL for the CoinGecko API to fetch cryptocurrency data\n",
    "URL = 'https://api.coingecko.com/api/v3/coins/markets'\n",
    "\n",
    "# Define the parameters for the API request\n",
    "params = {\n",
    "    'vs_currency': 'usd',  # The currency to compare against\n",
    "    'order': 'market_cap_desc',  # Order by market cap descending\n",
    "    'per_page': 10,  # Number of results per page\n",
    "    'page': 1,  # Page number\n",
    "    'sparkline': 'false'  # Whether to include sparkline data\n",
    "}\n",
    "\n",
    "# Fetch data from the API\n",
    "response = requests.get(URL, params=params)\n",
    "\n",
    "# Check if the request was successful\n",
    "if response.status_code == 200:\n",
    "    # Parse the JSON response\n",
    "    data = response.json()\n",
    "    \n",
    "    # Print the JSON data\n",
    "    print(\"Fetched JSON data:\")\n",
    "    print(data)\n",
    "else:\n",
    "    # Print an error message if the request was not successful\n",
    "    print(f\"Failed to fetch data. HTTP Status code: {response.status_code}\")"
   ]
  },
  {
   "cell_type": "code",
   "execution_count": 4,
   "id": "bfd7cf45-a53b-4cdc-96ef-0272e6cd1ce5",
   "metadata": {},
   "outputs": [
    {
     "name": "stdout",
     "output_type": "stream",
     "text": [
      "Transformed data into tabular format.\n"
     ]
    }
   ],
   "source": [
    "# We'll transform the JSON data into a pandas DataFrame for easier analysis and manipulation.\n",
    "# Check if the request was successful before transforming data\n",
    "if response.status_code == 200:\n",
    "    # Extract necessary data and convert it into a pandas DataFrame\n",
    "    # We create a dictionary where each key is a column name and each value is a list of column values\n",
    "    crypto_data = {\n",
    "        'ID': [coin['id'] for coin in data],\n",
    "        'Symbol': [coin['symbol'] for coin in data],\n",
    "        'Name': [coin['name'] for coin in data],\n",
    "        'Current Price': [coin['current_price'] for coin in data],\n",
    "        'Market Cap': [coin['market_cap'] for coin in data],\n",
    "        'Total Volume': [coin['total_volume'] for coin in data],\n",
    "        'High 24h': [coin['high_24h'] for coin in data],\n",
    "        'Low 24h': [coin['low_24h'] for coin in data]\n",
    "    }\n",
    "\n",
    "    # Create a pandas DataFrame from the dictionary\n",
    "    df = pd.DataFrame(crypto_data)\n",
    "    \n",
    "    # Print a message indicating successful transformation\n",
    "    print(\"Transformed data into tabular format.\")\n",
    "else:\n",
    "    # Print an error message if the request was not successful\n",
    "    print(f\"Failed to fetch data. HTTP Status code: {response.status_code}\")"
   ]
  },
  {
   "cell_type": "code",
   "execution_count": 5,
   "id": "cfd9ea06-b911-48d5-9b9d-a9af847d7cda",
   "metadata": {},
   "outputs": [
    {
     "data": {
      "text/html": [
       "<div>\n",
       "<style scoped>\n",
       "    .dataframe tbody tr th:only-of-type {\n",
       "        vertical-align: middle;\n",
       "    }\n",
       "\n",
       "    .dataframe tbody tr th {\n",
       "        vertical-align: top;\n",
       "    }\n",
       "\n",
       "    .dataframe thead th {\n",
       "        text-align: right;\n",
       "    }\n",
       "</style>\n",
       "<table border=\"1\" class=\"dataframe\">\n",
       "  <thead>\n",
       "    <tr style=\"text-align: right;\">\n",
       "      <th></th>\n",
       "      <th>ID</th>\n",
       "      <th>Symbol</th>\n",
       "      <th>Name</th>\n",
       "      <th>Current Price</th>\n",
       "      <th>Market Cap</th>\n",
       "      <th>Total Volume</th>\n",
       "      <th>High 24h</th>\n",
       "      <th>Low 24h</th>\n",
       "    </tr>\n",
       "  </thead>\n",
       "  <tbody>\n",
       "    <tr>\n",
       "      <th>0</th>\n",
       "      <td>bitcoin</td>\n",
       "      <td>btc</td>\n",
       "      <td>Bitcoin</td>\n",
       "      <td>62201.000000</td>\n",
       "      <td>1235459203282</td>\n",
       "      <td>42447934504</td>\n",
       "      <td>61968.000</td>\n",
       "      <td>54849.000000</td>\n",
       "    </tr>\n",
       "    <tr>\n",
       "      <th>1</th>\n",
       "      <td>ethereum</td>\n",
       "      <td>eth</td>\n",
       "      <td>Ethereum</td>\n",
       "      <td>2698.340000</td>\n",
       "      <td>326378376556</td>\n",
       "      <td>21684992441</td>\n",
       "      <td>2689.320</td>\n",
       "      <td>2326.030000</td>\n",
       "    </tr>\n",
       "    <tr>\n",
       "      <th>2</th>\n",
       "      <td>tether</td>\n",
       "      <td>usdt</td>\n",
       "      <td>Tether</td>\n",
       "      <td>0.998868</td>\n",
       "      <td>114822718275</td>\n",
       "      <td>41412150118</td>\n",
       "      <td>1.008</td>\n",
       "      <td>0.997169</td>\n",
       "    </tr>\n",
       "    <tr>\n",
       "      <th>3</th>\n",
       "      <td>binancecoin</td>\n",
       "      <td>bnb</td>\n",
       "      <td>BNB</td>\n",
       "      <td>520.870000</td>\n",
       "      <td>76505024397</td>\n",
       "      <td>926989377</td>\n",
       "      <td>519.650</td>\n",
       "      <td>470.350000</td>\n",
       "    </tr>\n",
       "    <tr>\n",
       "      <th>4</th>\n",
       "      <td>solana</td>\n",
       "      <td>sol</td>\n",
       "      <td>Solana</td>\n",
       "      <td>162.000000</td>\n",
       "      <td>75586645096</td>\n",
       "      <td>6892660312</td>\n",
       "      <td>162.360</td>\n",
       "      <td>142.380000</td>\n",
       "    </tr>\n",
       "  </tbody>\n",
       "</table>\n",
       "</div>"
      ],
      "text/plain": [
       "            ID Symbol      Name  Current Price     Market Cap  Total Volume  \\\n",
       "0      bitcoin    btc   Bitcoin   62201.000000  1235459203282   42447934504   \n",
       "1     ethereum    eth  Ethereum    2698.340000   326378376556   21684992441   \n",
       "2       tether   usdt    Tether       0.998868   114822718275   41412150118   \n",
       "3  binancecoin    bnb       BNB     520.870000    76505024397     926989377   \n",
       "4       solana    sol    Solana     162.000000    75586645096    6892660312   \n",
       "\n",
       "    High 24h       Low 24h  \n",
       "0  61968.000  54849.000000  \n",
       "1   2689.320   2326.030000  \n",
       "2      1.008      0.997169  \n",
       "3    519.650    470.350000  \n",
       "4    162.360    142.380000  "
      ]
     },
     "execution_count": 5,
     "metadata": {},
     "output_type": "execute_result"
    }
   ],
   "source": [
    "df.head()"
   ]
  },
  {
   "cell_type": "code",
   "execution_count": null,
   "id": "39821704-dc8c-4357-8067-1bd419fbbaa9",
   "metadata": {},
   "outputs": [],
   "source": []
  }
 ],
 "metadata": {
  "kernelspec": {
   "display_name": "Python 3 (ipykernel)",
   "language": "python",
   "name": "python3"
  },
  "language_info": {
   "codemirror_mode": {
    "name": "ipython",
    "version": 3
   },
   "file_extension": ".py",
   "mimetype": "text/x-python",
   "name": "python",
   "nbconvert_exporter": "python",
   "pygments_lexer": "ipython3",
   "version": "3.12.4"
  }
 },
 "nbformat": 4,
 "nbformat_minor": 5
}
