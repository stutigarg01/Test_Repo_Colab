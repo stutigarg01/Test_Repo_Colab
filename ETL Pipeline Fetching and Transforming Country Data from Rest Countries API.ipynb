{
 "cells": [
  {
   "cell_type": "code",
   "execution_count": 1,
   "id": "68193a14-dec7-4f5e-8dfe-38f03711adfc",
   "metadata": {},
   "outputs": [],
   "source": [
    "# Import the requests library to handle HTTP requests\n",
    "import requests\n",
    "\n",
    "# Import the pandas library to handle data in a tabular format\n",
    "import pandas as pd"
   ]
  },
  {
   "cell_type": "code",
   "execution_count": 2,
   "id": "9c73f967-88bc-45a4-8ee6-5756f44227bb",
   "metadata": {},
   "outputs": [
    {
     "name": "stdout",
     "output_type": "stream",
     "text": [
      "Fetched JSON data:\n",
      "[{'name': {'common': 'South Georgia', 'official': 'South Georgia and the South Sandwich Islands', 'nativeName': {'eng': {'official': 'South Georgia and the South Sandwich Islands', 'common': 'South Georgia'}}}, 'tld': ['.gs'], 'cca2': 'GS', 'ccn3': '239', 'cca3': 'SGS', 'independent': False, 'status': 'officially-assigned', 'unMember': False, 'currencies': {'SHP': {'name': 'Saint Helena pound', 'symbol': '£'}}, 'idd': {'root': '+5', 'suffixes': ['00']}, 'capital': ['King Edward Point'], 'altSpellings': ['GS', 'South Georgia and the South Sandwich Islands'], 'region': 'Antarctic', 'languages': {'eng': 'English'}, 'translations': {'ara': {'official': 'جورجيا الجنوبية وجزر ساندوتش الجنوبية', 'common': 'جورجيا الجنوبية'}, 'bre': {'official': 'Georgia ar Su hag Inizi Sandwich ar Su', 'common': 'Georgia ar Su hag Inizi Sandwich ar Su'}, 'ces': {'official': 'Jižní Georgie a Jižní Sandwichovy ostrovy', 'common': 'Jižní Georgie a Jižní Sandwichovy ostrovy'}, 'cym': {'official': 'South Georgia and the South Sandwich Islands', 'common': 'South Georgia'}, 'deu': {'official': 'Südgeorgien und die Südlichen Sandwichinseln', 'common': 'Südgeorgien und die Südlichen Sandwichinseln'}, 'est': {'official': 'Lõuna-Georgia ja Lõuna-Sandwichi saared', 'common': 'Lõuna-Georgia ja Lõuna-Sandwichi saared'}, 'fin': {'official': 'Etelä-Georgia ja Eteläiset Sandwichsaaret', 'common': 'Etelä-Georgia ja Eteläiset Sandwichsaaret'}, 'fra': {'official': 'Géorgie du Sud et les îles Sandwich du Sud', 'common': 'Géorgie du Sud-et-les Îles Sandwich du Sud'}, 'hrv': {'official': 'Južna Džordžija i Otoci Južni Sendvič', 'common': 'Južna Georgija i otočje Južni Sandwich'}, 'hun': {'official': 'Déli-Georgia és Déli-Sandwich-szigetek', 'common': 'Déli-Georgia és Déli-Sandwich-szigetek'}, 'ita': {'official': 'Georgia del Sud e isole Sandwich del Sud', 'common': 'Georgia del Sud e Isole Sandwich Meridionali'}, 'jpn': {'official': 'サウスジョージア·サウスサンドウィッチ諸島', 'common': 'サウスジョージア・サウスサンドウィッチ諸島'}, 'kor': {'official': '조지아', 'common': '조지아'}, 'nld': {'official': 'Zuid-Georgië en de Zuidelijke Sandwich-eilanden', 'common': 'Zuid-Georgia en Zuidelijke Sandwicheilanden'}, 'per': {'official': 'جزایر جورجیای جنوبی و ساندویچ جنوبی', 'common': 'جزایر جورجیای جنوبی و ساندویچ جنوبی'}, 'pol': {'official': 'Georgia Południowa i Sandwich Południowy', 'common': 'Georgia Południowa i Sandwich Południowy'}, 'por': {'official': 'Geórgia do Sul e Sandwich do Sul', 'common': 'Ilhas Geórgia do Sul e Sandwich do Sul'}, 'rus': {'official': 'Южная Георгия и Южные Сандвичевы острова', 'common': 'Южная Георгия и Южные Сандвичевы острова'}, 'slk': {'official': 'Južná Georgia a Južné Sandwichove ostrovy', 'common': 'Južná Georgia a Južné Sandwichove ostrovy'}, 'spa': {'official': 'Georgia del Sur y las Islas Sandwich del Sur', 'common': 'Islas Georgias del Sur y Sandwich del Sur'}, 'srp': {'official': 'Јужна Џорџија и Јужна Сендвичка Острва', 'common': 'Јужна Џорџија и Јужна Сендвичка Острва'}, 'swe': {'official': 'Sydgeorgien', 'common': 'Sydgeorgien'}, 'tur': {'official': 'Güney Georgia ve Güney Sandwich Adaları', 'common': 'Güney Georgia ve Güney Sandwich Adaları'}, 'urd': {'official': 'جنوبی جارجیا و جزائر جنوبی سینڈوچ', 'common': 'جنوبی جارجیا'}, 'zho': {'official': '南乔治亚岛和南桑威奇群岛', 'common': '南乔治亚'}}, 'latlng': [-54.5, -37.0], 'landlocked': False, 'area': 3903.0, 'demonyms': {'eng': {'f': 'South Georgian South Sandwich Islander', 'm': 'South Georgian South Sandwich Islander'}}, 'flag': '🇬🇸', 'maps': {'googleMaps': 'https://goo.gl/maps/mJzdaBwKBbm2B81q9', 'openStreetMaps': 'https://www.openstreetmap.org/relation/1983629'}, 'population': 30, 'car': {'signs': [''], 'side': 'right'}, 'timezones': ['UTC-02:00'], 'continents': ['Antarctica'], 'flags': {'png': 'https://flagcdn.com/w320/gs.png', 'svg': 'https://flagcdn.com/gs.svg'}, 'coatOfArms': {}, 'startOfWeek': 'monday', 'capitalInfo': {'latlng': [-54.28, -36.5]}}, {'name': {'common': 'Grenada', 'official': 'Grenada', 'nativeName': {'eng': {'official': 'Grenada', 'common': 'Grenada'}}}, 'tld': ['.gd'], 'cca2': 'GD', 'ccn3': '308', 'cca3': 'GRD', 'cioc': 'GRN', 'independent': True, 'status': 'officially-assigned', 'unMember': True, 'currencies': {'XCD': {'name': 'Eastern Caribbean dollar', 'symbol': '$'}}, 'idd': {'root': '+1', 'suffixes': ['473']}, 'capital': [\"St. George's\"], 'altSpellings': ['GD'], 'region': 'Americas', 'subregion': 'Caribbean', 'languages': {'eng': 'English'}, 'translations': {'ara': {'official': 'غرينادا', 'common': 'غرينادا'}, 'bre': {'official': 'Grenada', 'common': 'Grenada'}, 'ces': {'official': 'Grenada', 'common': 'Grenada'}, 'cym': {'official': 'Grenada', 'common': 'Grenada'}, 'deu': {'official': 'Grenada', 'common': 'Grenada'}, 'est': {'official': 'Grenada', 'common': 'Grenada'}, 'fin': {'official': 'Grenada', 'common': 'Grenada'}, 'fra': {'official': 'Grenade', 'common': 'Grenade'}, 'hrv': {'official': 'Grenada', 'common': 'Grenada'}, 'hun': {'official': 'Grenada', 'common': 'Grenada'}, 'ita': {'official': 'Grenada', 'common': 'Grenada'}, 'jpn': {'official': 'グレナダ', 'common': 'グレナダ'}, 'kor': {'official': '그레나다', 'common': '그레나다'}, 'nld': {'official': 'Grenada', 'common': 'Grenada'}, 'per': {'official': 'گرنادا', 'common': 'گرنادا'}, 'pol': {'official': 'Grenada', 'common': 'Grenada'}, 'por': {'official': 'Grenada', 'common': 'Granada'}, 'rus': {'official': 'Гренада', 'common': 'Гренада'}, 'slk': {'official': 'Grenada', 'common': 'Grenada'}, 'spa': {'official': 'Granada', 'common': 'Grenada'}, 'srp': {'official': 'Гренада', 'common': 'Гренада'}, 'swe': {'official': 'Grenada', 'common': 'Grenada'}, 'tur': {'official': 'Grenada', 'common': 'Grenada'}, 'urd': {'official': 'گریناڈا', 'common': 'گریناڈا'}, 'zho': {'official': '格林纳达', 'common': '格林纳达'}}, 'latlng': [12.11666666, -61.66666666], 'landlocked': False, 'area': 344.0, 'demonyms': {'eng': {'f': 'Grenadian', 'm': 'Grenadian'}, 'fra': {'f': 'Grenadienne', 'm': 'Grenadien'}}, 'flag': '🇬🇩', 'maps': {'googleMaps': 'https://goo.gl/maps/rqWyfUAt4xhvk1Zy9', 'openStreetMaps': 'https://www.openstreetmap.org/relation/550727'}, 'population': 112519, 'fifa': 'GRN', 'car': {'signs': ['WG'], 'side': 'left'}, 'timezones': ['UTC-04:00'], 'continents': ['North America'], 'flags': {'png': 'https://flagcdn.com/w320/gd.png', 'svg': 'https://flagcdn.com/gd.svg', 'alt': 'The flag of Grenada features a large central rectangular area surrounded by a red border, with three five-pointed yellow stars centered on the top and bottom borders. The central rectangle is divided diagonally into four alternating triangular areas of yellow at the top and bottom and green on the hoist and fly sides, and a five-pointed yellow star on a red circle is superimposed at its center. A symbolic nutmeg pod is situated on the green hoist-side triangle.'}, 'coatOfArms': {'png': 'https://mainfacts.com/media/images/coats_of_arms/gd.png', 'svg': 'https://mainfacts.com/media/images/coats_of_arms/gd.svg'}, 'startOfWeek': 'monday', 'capitalInfo': {'latlng': [32.38, -64.68]}}]\n"
     ]
    }
   ],
   "source": [
    "# Set the URL for the Rest Countries API to fetch country data\n",
    "URL = 'https://restcountries.com/v3.1/all'\n",
    "\n",
    "# Fetch data from the API\n",
    "response = requests.get(URL)\n",
    "\n",
    "# Check if the request was successful\n",
    "if response.status_code == 200:\n",
    "    # Parse the JSON response\n",
    "    data = response.json()\n",
    "    \n",
    "    # Print the JSON data\n",
    "    print(\"Fetched JSON data:\")\n",
    "    print(data[:2])  # Displaying only the first two entries for brevity\n",
    "else:\n",
    "    # Print an error message if the request was not successful\n",
    "    print(f\"Failed to fetch data. HTTP Status code: {response.status_code}\")"
   ]
  },
  {
   "cell_type": "code",
   "execution_count": 3,
   "id": "bc562633-59c2-4d58-bdd1-3f291a95a61c",
   "metadata": {},
   "outputs": [
    {
     "name": "stdout",
     "output_type": "stream",
     "text": [
      "Transformed data into tabular format.\n"
     ]
    }
   ],
   "source": [
    "# Check if the request was successful before transforming data\n",
    "if response.status_code == 200:\n",
    "    # Extract necessary data and convert it into a pandas DataFrame\n",
    "    # The JSON response contains a list of dictionaries with country details\n",
    "    countries_data = {\n",
    "        'Name': [entry['name']['common'] for entry in data],\n",
    "        'Capital': [entry.get('capital', ['N/A'])[0] for entry in data],\n",
    "        'Region': [entry.get('region', 'N/A') for entry in data],\n",
    "        'Subregion': [entry.get('subregion', 'N/A') for entry in data],\n",
    "        'Population': [entry.get('population', 'N/A') for entry in data],\n",
    "        'Area': [entry.get('area', 'N/A') for entry in data],\n",
    "        'Languages': [', '.join(entry.get('languages', {}).values()) for entry in data],\n",
    "        'Currencies': [', '.join([curr['name'] for curr in entry.get('currencies', {}).values()]) for entry in data]\n",
    "    }\n",
    "\n",
    "    # Create a pandas DataFrame from the dictionary\n",
    "    df = pd.DataFrame(countries_data)\n",
    "    \n",
    "    # Print a message indicating successful transformation\n",
    "    print(\"Transformed data into tabular format.\")\n",
    "else:\n",
    "    # Print an error message if the request was not successful\n",
    "    print(f\"Failed to fetch data. HTTP Status code: {response.status_code}\")"
   ]
  },
  {
   "cell_type": "code",
   "execution_count": 4,
   "id": "abbe5afb-073c-4687-b6dc-ad5b3741aebe",
   "metadata": {},
   "outputs": [
    {
     "data": {
      "text/html": [
       "<div>\n",
       "<style scoped>\n",
       "    .dataframe tbody tr th:only-of-type {\n",
       "        vertical-align: middle;\n",
       "    }\n",
       "\n",
       "    .dataframe tbody tr th {\n",
       "        vertical-align: top;\n",
       "    }\n",
       "\n",
       "    .dataframe thead th {\n",
       "        text-align: right;\n",
       "    }\n",
       "</style>\n",
       "<table border=\"1\" class=\"dataframe\">\n",
       "  <thead>\n",
       "    <tr style=\"text-align: right;\">\n",
       "      <th></th>\n",
       "      <th>Name</th>\n",
       "      <th>Capital</th>\n",
       "      <th>Region</th>\n",
       "      <th>Subregion</th>\n",
       "      <th>Population</th>\n",
       "      <th>Area</th>\n",
       "      <th>Languages</th>\n",
       "      <th>Currencies</th>\n",
       "    </tr>\n",
       "  </thead>\n",
       "  <tbody>\n",
       "    <tr>\n",
       "      <th>0</th>\n",
       "      <td>South Georgia</td>\n",
       "      <td>King Edward Point</td>\n",
       "      <td>Antarctic</td>\n",
       "      <td>N/A</td>\n",
       "      <td>30</td>\n",
       "      <td>3903.0</td>\n",
       "      <td>English</td>\n",
       "      <td>Saint Helena pound</td>\n",
       "    </tr>\n",
       "    <tr>\n",
       "      <th>1</th>\n",
       "      <td>Grenada</td>\n",
       "      <td>St. George's</td>\n",
       "      <td>Americas</td>\n",
       "      <td>Caribbean</td>\n",
       "      <td>112519</td>\n",
       "      <td>344.0</td>\n",
       "      <td>English</td>\n",
       "      <td>Eastern Caribbean dollar</td>\n",
       "    </tr>\n",
       "    <tr>\n",
       "      <th>2</th>\n",
       "      <td>Switzerland</td>\n",
       "      <td>Bern</td>\n",
       "      <td>Europe</td>\n",
       "      <td>Western Europe</td>\n",
       "      <td>8654622</td>\n",
       "      <td>41284.0</td>\n",
       "      <td>French, Swiss German, Italian, Romansh</td>\n",
       "      <td>Swiss franc</td>\n",
       "    </tr>\n",
       "    <tr>\n",
       "      <th>3</th>\n",
       "      <td>Sierra Leone</td>\n",
       "      <td>Freetown</td>\n",
       "      <td>Africa</td>\n",
       "      <td>Western Africa</td>\n",
       "      <td>7976985</td>\n",
       "      <td>71740.0</td>\n",
       "      <td>English</td>\n",
       "      <td>Sierra Leonean leone</td>\n",
       "    </tr>\n",
       "    <tr>\n",
       "      <th>4</th>\n",
       "      <td>Hungary</td>\n",
       "      <td>Budapest</td>\n",
       "      <td>Europe</td>\n",
       "      <td>Central Europe</td>\n",
       "      <td>9749763</td>\n",
       "      <td>93028.0</td>\n",
       "      <td>Hungarian</td>\n",
       "      <td>Hungarian forint</td>\n",
       "    </tr>\n",
       "  </tbody>\n",
       "</table>\n",
       "</div>"
      ],
      "text/plain": [
       "            Name            Capital     Region       Subregion  Population  \\\n",
       "0  South Georgia  King Edward Point  Antarctic             N/A          30   \n",
       "1        Grenada       St. George's   Americas       Caribbean      112519   \n",
       "2    Switzerland               Bern     Europe  Western Europe     8654622   \n",
       "3   Sierra Leone           Freetown     Africa  Western Africa     7976985   \n",
       "4        Hungary           Budapest     Europe  Central Europe     9749763   \n",
       "\n",
       "      Area                               Languages                Currencies  \n",
       "0   3903.0                                 English        Saint Helena pound  \n",
       "1    344.0                                 English  Eastern Caribbean dollar  \n",
       "2  41284.0  French, Swiss German, Italian, Romansh               Swiss franc  \n",
       "3  71740.0                                 English      Sierra Leonean leone  \n",
       "4  93028.0                               Hungarian          Hungarian forint  "
      ]
     },
     "execution_count": 4,
     "metadata": {},
     "output_type": "execute_result"
    }
   ],
   "source": [
    "df.head()"
   ]
  },
  {
   "cell_type": "code",
   "execution_count": 5,
   "id": "52823cc8-6bc8-47f3-9056-8f409c92e61d",
   "metadata": {},
   "outputs": [
    {
     "data": {
      "text/plain": [
       "(250, 8)"
      ]
     },
     "execution_count": 5,
     "metadata": {},
     "output_type": "execute_result"
    }
   ],
   "source": [
    "df.shape"
   ]
  },
  {
   "cell_type": "code",
   "execution_count": null,
   "id": "8e331c1e-df89-4fb3-812c-f29ed04f1731",
   "metadata": {},
   "outputs": [],
   "source": []
  }
 ],
 "metadata": {
  "kernelspec": {
   "display_name": "Python 3 (ipykernel)",
   "language": "python",
   "name": "python3"
  },
  "language_info": {
   "codemirror_mode": {
    "name": "ipython",
    "version": 3
   },
   "file_extension": ".py",
   "mimetype": "text/x-python",
   "name": "python",
   "nbconvert_exporter": "python",
   "pygments_lexer": "ipython3",
   "version": "3.12.4"
  }
 },
 "nbformat": 4,
 "nbformat_minor": 5
}
