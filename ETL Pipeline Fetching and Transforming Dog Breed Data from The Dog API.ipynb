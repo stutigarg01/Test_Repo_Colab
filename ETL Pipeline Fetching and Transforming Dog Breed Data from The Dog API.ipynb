{
 "cells": [
  {
   "cell_type": "markdown",
   "id": "fffc6394-0bde-4a68-b6ec-8d175dd5bd3c",
   "metadata": {},
   "source": [
    "## Step 1: Install Necessary Libraries"
   ]
  },
  {
   "cell_type": "code",
   "execution_count": 7,
   "id": "95c151b4-459a-4ffe-aab2-6fe35d051f28",
   "metadata": {},
   "outputs": [],
   "source": [
    "# # First, we need to install the required packages. Run the following cell to install requests and pandas if they are not already installed.\n",
    "# # Install the necessary packages\n",
    "# !pip install requests pandas"
   ]
  },
  {
   "cell_type": "markdown",
   "id": "b3ea1abf-091e-4b4b-b85d-64bd7a9b1c8f",
   "metadata": {},
   "source": [
    "## Step 2: Import Necessary Libraries"
   ]
  },
  {
   "cell_type": "code",
   "execution_count": 2,
   "id": "75ef58ad-1cd8-4bf7-bf21-decc853a145c",
   "metadata": {},
   "outputs": [],
   "source": [
    "# Next, we import the necessary libraries.\n",
    "# Import the requests library to handle HTTP requests\n",
    "import requests\n",
    "\n",
    "# Import the pandas library to handle data in a tabular format\n",
    "import pandas as pd"
   ]
  },
  {
   "cell_type": "markdown",
   "id": "6b04c87f-63b5-46c7-82a4-1cbfb6b72fef",
   "metadata": {},
   "source": [
    "## Step 3: Collect Data from the API in JSON Format"
   ]
  },
  {
   "cell_type": "code",
   "execution_count": 3,
   "id": "f164a9ce-52cd-45eb-a6a2-311f890683fa",
   "metadata": {},
   "outputs": [
    {
     "name": "stdout",
     "output_type": "stream",
     "text": [
      "Fetched JSON data:\n",
      "{'message': {'affenpinscher': [], 'african': [], 'airedale': [], 'akita': [], 'appenzeller': [], 'australian': ['kelpie', 'shepherd'], 'bakharwal': ['indian'], 'basenji': [], 'beagle': [], 'bluetick': [], 'borzoi': [], 'bouvier': [], 'boxer': [], 'brabancon': [], 'briard': [], 'buhund': ['norwegian'], 'bulldog': ['boston', 'english', 'french'], 'bullterrier': ['staffordshire'], 'cattledog': ['australian'], 'cavapoo': [], 'chihuahua': [], 'chippiparai': ['indian'], 'chow': [], 'clumber': [], 'cockapoo': [], 'collie': ['border'], 'coonhound': [], 'corgi': ['cardigan'], 'cotondetulear': [], 'dachshund': [], 'dalmatian': [], 'dane': ['great'], 'danish': ['swedish'], 'deerhound': ['scottish'], 'dhole': [], 'dingo': [], 'doberman': [], 'elkhound': ['norwegian'], 'entlebucher': [], 'eskimo': [], 'finnish': ['lapphund'], 'frise': ['bichon'], 'gaddi': ['indian'], 'germanshepherd': [], 'greyhound': ['indian', 'italian'], 'groenendael': [], 'havanese': [], 'hound': ['afghan', 'basset', 'blood', 'english', 'ibizan', 'plott', 'walker'], 'husky': [], 'keeshond': [], 'kelpie': [], 'kombai': [], 'komondor': [], 'kuvasz': [], 'labradoodle': [], 'labrador': [], 'leonberg': [], 'lhasa': [], 'malamute': [], 'malinois': [], 'maltese': [], 'mastiff': ['bull', 'english', 'indian', 'tibetan'], 'mexicanhairless': [], 'mix': [], 'mountain': ['bernese', 'swiss'], 'mudhol': ['indian'], 'newfoundland': [], 'otterhound': [], 'ovcharka': ['caucasian'], 'papillon': [], 'pariah': ['indian'], 'pekinese': [], 'pembroke': [], 'pinscher': ['miniature'], 'pitbull': [], 'pointer': ['german', 'germanlonghair'], 'pomeranian': [], 'poodle': ['medium', 'miniature', 'standard', 'toy'], 'pug': [], 'puggle': [], 'pyrenees': [], 'rajapalayam': ['indian'], 'redbone': [], 'retriever': ['chesapeake', 'curly', 'flatcoated', 'golden'], 'ridgeback': ['rhodesian'], 'rottweiler': [], 'saluki': [], 'samoyed': [], 'schipperke': [], 'schnauzer': ['giant', 'miniature'], 'segugio': ['italian'], 'setter': ['english', 'gordon', 'irish'], 'sharpei': [], 'sheepdog': ['english', 'indian', 'shetland'], 'shiba': [], 'shihtzu': [], 'spaniel': ['blenheim', 'brittany', 'cocker', 'irish', 'japanese', 'sussex', 'welsh'], 'spitz': ['indian', 'japanese'], 'springer': ['english'], 'stbernard': [], 'terrier': ['american', 'australian', 'bedlington', 'border', 'cairn', 'dandie', 'fox', 'irish', 'kerryblue', 'lakeland', 'norfolk', 'norwich', 'patterdale', 'russell', 'scottish', 'sealyham', 'silky', 'tibetan', 'toy', 'welsh', 'westhighland', 'wheaten', 'yorkshire'], 'tervuren': [], 'vizsla': [], 'waterdog': ['spanish'], 'weimaraner': [], 'whippet': [], 'wolfhound': ['irish']}, 'status': 'success'}\n"
     ]
    }
   ],
   "source": [
    "# We'll fetch dog breed data from The Dog API and display the JSON data.\n",
    "# Set the URL for The Dog API to fetch dog breed data\n",
    "URL = 'https://dog.ceo/api/breeds/list/all'\n",
    "\n",
    "# Fetch data from the API\n",
    "response = requests.get(URL)\n",
    "\n",
    "# Check if the request was successful\n",
    "if response.status_code == 200:\n",
    "    # Parse the JSON response\n",
    "    data = response.json()\n",
    "    \n",
    "    # Print the JSON data\n",
    "    print(\"Fetched JSON data:\")\n",
    "    print(data)\n",
    "else:\n",
    "    # Print an error message if the request was not successful\n",
    "    print(f\"Failed to fetch data. HTTP Status code: {response.status_code}\")"
   ]
  },
  {
   "cell_type": "markdown",
   "id": "b0210b56-ab4c-4e45-94c9-476f4a51a98e",
   "metadata": {},
   "source": [
    "## Step 4: Transform Data into Tabular Format"
   ]
  },
  {
   "cell_type": "code",
   "execution_count": 5,
   "id": "8e3f4522-2d63-4a7c-8e4b-ddb9d5eef65e",
   "metadata": {},
   "outputs": [
    {
     "name": "stdout",
     "output_type": "stream",
     "text": [
      "Transformed data into tabular format.\n"
     ]
    }
   ],
   "source": [
    "# We'll transform the JSON data into a pandas DataFrame for easier analysis and manipulation.\n",
    "# Check if the request was successful before transforming data\n",
    "if response.status_code == 200:\n",
    "    # Extract necessary data and convert it into a pandas DataFrame\n",
    "    # The JSON response contains a dictionary with breed names as keys and lists of sub-breeds as values\n",
    "    breeds_data = {\n",
    "        'Breed': list(data['message'].keys()),\n",
    "        'Sub-breeds': [','.join(data['message'][breed]) for breed in data['message']]\n",
    "    }\n",
    "\n",
    "    # Create a pandas DataFrame from the dictionary\n",
    "    df = pd.DataFrame(breeds_data)\n",
    "    \n",
    "    # Print a message indicating successful transformation\n",
    "    print(\"Transformed data into tabular format.\")\n",
    "else:\n",
    "    # Print an error message if the request was not successful\n",
    "    print(f\"Failed to fetch data. HTTP Status code: {response.status_code}\")"
   ]
  },
  {
   "cell_type": "markdown",
   "id": "fd4073a4-d133-41c6-a371-17d68f12a670",
   "metadata": {},
   "source": [
    "## Step 5: Show the Tabular Formatted Data"
   ]
  },
  {
   "cell_type": "code",
   "execution_count": 6,
   "id": "83110554-9e90-4178-bcb4-c7166d978b6a",
   "metadata": {},
   "outputs": [
    {
     "data": {
      "text/html": [
       "<div>\n",
       "<style scoped>\n",
       "    .dataframe tbody tr th:only-of-type {\n",
       "        vertical-align: middle;\n",
       "    }\n",
       "\n",
       "    .dataframe tbody tr th {\n",
       "        vertical-align: top;\n",
       "    }\n",
       "\n",
       "    .dataframe thead th {\n",
       "        text-align: right;\n",
       "    }\n",
       "</style>\n",
       "<table border=\"1\" class=\"dataframe\">\n",
       "  <thead>\n",
       "    <tr style=\"text-align: right;\">\n",
       "      <th></th>\n",
       "      <th>Breed</th>\n",
       "      <th>Sub-breeds</th>\n",
       "    </tr>\n",
       "  </thead>\n",
       "  <tbody>\n",
       "    <tr>\n",
       "      <th>0</th>\n",
       "      <td>affenpinscher</td>\n",
       "      <td></td>\n",
       "    </tr>\n",
       "    <tr>\n",
       "      <th>1</th>\n",
       "      <td>african</td>\n",
       "      <td></td>\n",
       "    </tr>\n",
       "    <tr>\n",
       "      <th>2</th>\n",
       "      <td>airedale</td>\n",
       "      <td></td>\n",
       "    </tr>\n",
       "    <tr>\n",
       "      <th>3</th>\n",
       "      <td>akita</td>\n",
       "      <td></td>\n",
       "    </tr>\n",
       "    <tr>\n",
       "      <th>4</th>\n",
       "      <td>appenzeller</td>\n",
       "      <td></td>\n",
       "    </tr>\n",
       "  </tbody>\n",
       "</table>\n",
       "</div>"
      ],
      "text/plain": [
       "           Breed Sub-breeds\n",
       "0  affenpinscher           \n",
       "1        african           \n",
       "2       airedale           \n",
       "3          akita           \n",
       "4    appenzeller           "
      ]
     },
     "execution_count": 6,
     "metadata": {},
     "output_type": "execute_result"
    }
   ],
   "source": [
    "# Finally, we'll display the transformed data in a tabular format.\n",
    "df.head()"
   ]
  },
  {
   "cell_type": "code",
   "execution_count": null,
   "id": "ce538a3e-f1ea-45fb-8aed-c539db5a11d9",
   "metadata": {},
   "outputs": [],
   "source": []
  }
 ],
 "metadata": {
  "kernelspec": {
   "display_name": "Python 3 (ipykernel)",
   "language": "python",
   "name": "python3"
  },
  "language_info": {
   "codemirror_mode": {
    "name": "ipython",
    "version": 3
   },
   "file_extension": ".py",
   "mimetype": "text/x-python",
   "name": "python",
   "nbconvert_exporter": "python",
   "pygments_lexer": "ipython3",
   "version": "3.12.4"
  }
 },
 "nbformat": 4,
 "nbformat_minor": 5
}
