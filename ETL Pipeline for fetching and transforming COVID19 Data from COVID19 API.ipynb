{
 "cells": [
  {
   "cell_type": "code",
   "execution_count": 1,
   "id": "0e7ae608-b1bc-4641-b3ca-d2478b7d8ffa",
   "metadata": {},
   "outputs": [],
   "source": [
    "# Import the requests library to handle HTTP requests\n",
    "import requests\n",
    "\n",
    "# Import the pandas library to handle data in a tabular format\n",
    "import pandas as pd"
   ]
  },
  {
   "cell_type": "code",
   "execution_count": 2,
   "id": "688b3fcf-2fae-4c6a-92d7-cb079dfab0f7",
   "metadata": {},
   "outputs": [
    {
     "name": "stdout",
     "output_type": "stream",
     "text": [
      "Fetched JSON data:\n",
      "[{'updated': 1723157572801, 'country': 'Afghanistan', 'countryInfo': {'_id': 4, 'iso2': 'AF', 'iso3': 'AFG', 'lat': 33, 'long': 65, 'flag': 'https://disease.sh/assets/img/flags/af.png'}, 'cases': 234174, 'todayCases': 0, 'deaths': 7996, 'todayDeaths': 0, 'recovered': 211080, 'todayRecovered': 0, 'active': 15098, 'critical': 0, 'casesPerOneMillion': 5746, 'deathsPerOneMillion': 196, 'tests': 1390730, 'testsPerOneMillion': 34125, 'population': 40754388, 'continent': 'Asia', 'oneCasePerPeople': 174, 'oneDeathPerPeople': 5097, 'oneTestPerPeople': 29, 'activePerOneMillion': 370.46, 'recoveredPerOneMillion': 5179.32, 'criticalPerOneMillion': 0}, {'updated': 1723157572792, 'country': 'Albania', 'countryInfo': {'_id': 8, 'iso2': 'AL', 'iso3': 'ALB', 'lat': 41, 'long': 20, 'flag': 'https://disease.sh/assets/img/flags/al.png'}, 'cases': 334863, 'todayCases': 0, 'deaths': 3605, 'todayDeaths': 0, 'recovered': 330233, 'todayRecovered': 0, 'active': 1025, 'critical': 0, 'casesPerOneMillion': 116825, 'deathsPerOneMillion': 1258, 'tests': 1941032, 'testsPerOneMillion': 677173, 'population': 2866374, 'continent': 'Europe', 'oneCasePerPeople': 9, 'oneDeathPerPeople': 795, 'oneTestPerPeople': 1, 'activePerOneMillion': 357.59, 'recoveredPerOneMillion': 115209.32, 'criticalPerOneMillion': 0}]\n"
     ]
    }
   ],
   "source": [
    "# Set the URL for the COVID-19 API to fetch data\n",
    "URL = 'https://disease.sh/v3/covid-19/countries'\n",
    "\n",
    "# Fetch data from the API\n",
    "response = requests.get(URL)\n",
    "\n",
    "# Check if the request was successful\n",
    "if response.status_code == 200:\n",
    "    # Parse the JSON response\n",
    "    data = response.json()\n",
    "    \n",
    "    # Print the JSON data\n",
    "    print(\"Fetched JSON data:\")\n",
    "    print(data[:2])  # Displaying only the first two entries for brevity\n",
    "else:\n",
    "    # Print an error message if the request was not successful\n",
    "    print(f\"Failed to fetch data. HTTP Status code: {response.status_code}\")"
   ]
  },
  {
   "cell_type": "markdown",
   "id": "dfdccc34-f785-43e1-bd42-1ad1dbb197f8",
   "metadata": {},
   "source": [
    "Transform Data into Tabular Format"
   ]
  },
  {
   "cell_type": "code",
   "execution_count": 3,
   "id": "552955d9-9fe7-4dbb-bce8-f9d58443ae83",
   "metadata": {},
   "outputs": [
    {
     "name": "stdout",
     "output_type": "stream",
     "text": [
      "Transformed data into tabular format.\n"
     ]
    }
   ],
   "source": [
    "# Check if the request was successful before transforming data\n",
    "if response.status_code == 200:\n",
    "    # Extract necessary data and convert it into a pandas DataFrame\n",
    "    # The JSON response contains a list of dictionaries with COVID-19 statistics for each country\n",
    "    covid_data = {\n",
    "        'Country': [entry['country'] for entry in data],\n",
    "        'Cases': [entry['cases'] for entry in data],\n",
    "        'Deaths': [entry['deaths'] for entry in data],\n",
    "        'Recovered': [entry['recovered'] for entry in data],\n",
    "        'Active': [entry['active'] for entry in data],\n",
    "        'Cases per Million': [entry['casesPerOneMillion'] for entry in data],\n",
    "        'Deaths per Million': [entry['deathsPerOneMillion'] for entry in data],\n",
    "        'Population': [entry['population'] for entry in data]\n",
    "    }\n",
    "\n",
    "    # Create a pandas DataFrame from the dictionary\n",
    "    df = pd.DataFrame(covid_data)\n",
    "    \n",
    "    # Print a message indicating successful transformation\n",
    "    print(\"Transformed data into tabular format.\")\n",
    "else:\n",
    "    # Print an error message if the request was not successful\n",
    "    print(f\"Failed to fetch data. HTTP Status code: {response.status_code}\")"
   ]
  },
  {
   "cell_type": "markdown",
   "id": "d08266e7-38ad-41bc-9e10-c52480ac8e1b",
   "metadata": {},
   "source": [
    "Show the Tabular Formatted Data"
   ]
  },
  {
   "cell_type": "code",
   "execution_count": 4,
   "id": "047ae5e2-6f89-406b-aad5-cfb1faa85750",
   "metadata": {},
   "outputs": [
    {
     "data": {
      "text/html": [
       "<div>\n",
       "<style scoped>\n",
       "    .dataframe tbody tr th:only-of-type {\n",
       "        vertical-align: middle;\n",
       "    }\n",
       "\n",
       "    .dataframe tbody tr th {\n",
       "        vertical-align: top;\n",
       "    }\n",
       "\n",
       "    .dataframe thead th {\n",
       "        text-align: right;\n",
       "    }\n",
       "</style>\n",
       "<table border=\"1\" class=\"dataframe\">\n",
       "  <thead>\n",
       "    <tr style=\"text-align: right;\">\n",
       "      <th></th>\n",
       "      <th>Country</th>\n",
       "      <th>Cases</th>\n",
       "      <th>Deaths</th>\n",
       "      <th>Recovered</th>\n",
       "      <th>Active</th>\n",
       "      <th>Cases per Million</th>\n",
       "      <th>Deaths per Million</th>\n",
       "      <th>Population</th>\n",
       "    </tr>\n",
       "  </thead>\n",
       "  <tbody>\n",
       "    <tr>\n",
       "      <th>0</th>\n",
       "      <td>Afghanistan</td>\n",
       "      <td>234174</td>\n",
       "      <td>7996</td>\n",
       "      <td>211080</td>\n",
       "      <td>15098</td>\n",
       "      <td>5746</td>\n",
       "      <td>196</td>\n",
       "      <td>40754388</td>\n",
       "    </tr>\n",
       "    <tr>\n",
       "      <th>1</th>\n",
       "      <td>Albania</td>\n",
       "      <td>334863</td>\n",
       "      <td>3605</td>\n",
       "      <td>330233</td>\n",
       "      <td>1025</td>\n",
       "      <td>116825</td>\n",
       "      <td>1258</td>\n",
       "      <td>2866374</td>\n",
       "    </tr>\n",
       "    <tr>\n",
       "      <th>2</th>\n",
       "      <td>Algeria</td>\n",
       "      <td>272010</td>\n",
       "      <td>6881</td>\n",
       "      <td>183061</td>\n",
       "      <td>82068</td>\n",
       "      <td>5998</td>\n",
       "      <td>152</td>\n",
       "      <td>45350148</td>\n",
       "    </tr>\n",
       "    <tr>\n",
       "      <th>3</th>\n",
       "      <td>Andorra</td>\n",
       "      <td>48015</td>\n",
       "      <td>165</td>\n",
       "      <td>0</td>\n",
       "      <td>47850</td>\n",
       "      <td>619844</td>\n",
       "      <td>2130</td>\n",
       "      <td>77463</td>\n",
       "    </tr>\n",
       "    <tr>\n",
       "      <th>4</th>\n",
       "      <td>Angola</td>\n",
       "      <td>107327</td>\n",
       "      <td>1937</td>\n",
       "      <td>103419</td>\n",
       "      <td>1971</td>\n",
       "      <td>3064</td>\n",
       "      <td>55</td>\n",
       "      <td>35027343</td>\n",
       "    </tr>\n",
       "  </tbody>\n",
       "</table>\n",
       "</div>"
      ],
      "text/plain": [
       "       Country   Cases  Deaths  Recovered  Active  Cases per Million  \\\n",
       "0  Afghanistan  234174    7996     211080   15098               5746   \n",
       "1      Albania  334863    3605     330233    1025             116825   \n",
       "2      Algeria  272010    6881     183061   82068               5998   \n",
       "3      Andorra   48015     165          0   47850             619844   \n",
       "4       Angola  107327    1937     103419    1971               3064   \n",
       "\n",
       "   Deaths per Million  Population  \n",
       "0                 196    40754388  \n",
       "1                1258     2866374  \n",
       "2                 152    45350148  \n",
       "3                2130       77463  \n",
       "4                  55    35027343  "
      ]
     },
     "execution_count": 4,
     "metadata": {},
     "output_type": "execute_result"
    }
   ],
   "source": [
    "df.head()"
   ]
  },
  {
   "cell_type": "code",
   "execution_count": 5,
   "id": "41e494f2-d4a6-4099-9838-00f79ffe1817",
   "metadata": {},
   "outputs": [
    {
     "data": {
      "text/plain": [
       "(231, 8)"
      ]
     },
     "execution_count": 5,
     "metadata": {},
     "output_type": "execute_result"
    }
   ],
   "source": [
    "df.shape"
   ]
  },
  {
   "cell_type": "code",
   "execution_count": null,
   "id": "ea7c43ad-dcdd-4390-becc-18a5e0842d32",
   "metadata": {},
   "outputs": [],
   "source": []
  }
 ],
 "metadata": {
  "kernelspec": {
   "display_name": "Python 3 (ipykernel)",
   "language": "python",
   "name": "python3"
  },
  "language_info": {
   "codemirror_mode": {
    "name": "ipython",
    "version": 3
   },
   "file_extension": ".py",
   "mimetype": "text/x-python",
   "name": "python",
   "nbconvert_exporter": "python",
   "pygments_lexer": "ipython3",
   "version": "3.12.4"
  }
 },
 "nbformat": 4,
 "nbformat_minor": 5
}
