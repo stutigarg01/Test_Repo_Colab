{
 "cells": [
  {
   "cell_type": "markdown",
   "id": "f36f7481-488b-4f00-8653-01c8a33b3579",
   "metadata": {},
   "source": [
    "#### Import Necessary Libraries"
   ]
  },
  {
   "cell_type": "code",
   "execution_count": 1,
   "id": "8e410982-d7b7-41a9-be19-57c67508147e",
   "metadata": {},
   "outputs": [],
   "source": [
    "# Import the requests library to handle HTTP requests\n",
    "import requests\n",
    "\n",
    "# Import the pandas library to handle data in a tabular format\n",
    "import pandas as pd"
   ]
  },
  {
   "cell_type": "markdown",
   "id": "d3c33435-66ad-45c9-91ec-7aeffe07cb45",
   "metadata": {},
   "source": [
    "#### Collect Data from the API in JSON Format"
   ]
  },
  {
   "cell_type": "code",
   "execution_count": 2,
   "id": "5796ce49-3e8d-40b4-bfaf-369a333298c8",
   "metadata": {},
   "outputs": [
    {
     "name": "stdout",
     "output_type": "stream",
     "text": [
      "Fetched JSON data:\n",
      "[{'fairings': {'reused': False, 'recovery_attempt': False, 'recovered': False, 'ships': []}, 'links': {'patch': {'small': 'https://images2.imgbox.com/94/f2/NN6Ph45r_o.png', 'large': 'https://images2.imgbox.com/5b/02/QcxHUb5V_o.png'}, 'reddit': {'campaign': None, 'launch': None, 'media': None, 'recovery': None}, 'flickr': {'small': [], 'original': []}, 'presskit': None, 'webcast': 'https://www.youtube.com/watch?v=0a_00nJ_Y88', 'youtube_id': '0a_00nJ_Y88', 'article': 'https://www.space.com/2196-spacex-inaugural-falcon-1-rocket-lost-launch.html', 'wikipedia': 'https://en.wikipedia.org/wiki/DemoSat'}, 'static_fire_date_utc': '2006-03-17T00:00:00.000Z', 'static_fire_date_unix': 1142553600, 'net': False, 'window': 0, 'rocket': '5e9d0d95eda69955f709d1eb', 'success': False, 'failures': [{'time': 33, 'altitude': None, 'reason': 'merlin engine failure'}], 'details': 'Engine failure at 33 seconds and loss of vehicle', 'crew': [], 'ships': [], 'capsules': [], 'payloads': ['5eb0e4b5b6c3bb0006eeb1e1'], 'launchpad': '5e9e4502f5090995de566f86', 'flight_number': 1, 'name': 'FalconSat', 'date_utc': '2006-03-24T22:30:00.000Z', 'date_unix': 1143239400, 'date_local': '2006-03-25T10:30:00+12:00', 'date_precision': 'hour', 'upcoming': False, 'cores': [{'core': '5e9e289df35918033d3b2623', 'flight': 1, 'gridfins': False, 'legs': False, 'reused': False, 'landing_attempt': False, 'landing_success': None, 'landing_type': None, 'landpad': None}], 'auto_update': True, 'tbd': False, 'launch_library_id': None, 'id': '5eb87cd9ffd86e000604b32a'}, {'fairings': {'reused': False, 'recovery_attempt': False, 'recovered': False, 'ships': []}, 'links': {'patch': {'small': 'https://images2.imgbox.com/f9/4a/ZboXReNb_o.png', 'large': 'https://images2.imgbox.com/80/a2/bkWotCIS_o.png'}, 'reddit': {'campaign': None, 'launch': None, 'media': None, 'recovery': None}, 'flickr': {'small': [], 'original': []}, 'presskit': None, 'webcast': 'https://www.youtube.com/watch?v=Lk4zQ2wP-Nc', 'youtube_id': 'Lk4zQ2wP-Nc', 'article': 'https://www.space.com/3590-spacex-falcon-1-rocket-fails-reach-orbit.html', 'wikipedia': 'https://en.wikipedia.org/wiki/DemoSat'}, 'static_fire_date_utc': None, 'static_fire_date_unix': None, 'net': False, 'window': 0, 'rocket': '5e9d0d95eda69955f709d1eb', 'success': False, 'failures': [{'time': 301, 'altitude': 289, 'reason': 'harmonic oscillation leading to premature engine shutdown'}], 'details': 'Successful first stage burn and transition to second stage, maximum altitude 289 km, Premature engine shutdown at T+7 min 30 s, Failed to reach orbit, Failed to recover first stage', 'crew': [], 'ships': [], 'capsules': [], 'payloads': ['5eb0e4b6b6c3bb0006eeb1e2'], 'launchpad': '5e9e4502f5090995de566f86', 'flight_number': 2, 'name': 'DemoSat', 'date_utc': '2007-03-21T01:10:00.000Z', 'date_unix': 1174439400, 'date_local': '2007-03-21T13:10:00+12:00', 'date_precision': 'hour', 'upcoming': False, 'cores': [{'core': '5e9e289ef35918416a3b2624', 'flight': 1, 'gridfins': False, 'legs': False, 'reused': False, 'landing_attempt': False, 'landing_success': None, 'landing_type': None, 'landpad': None}], 'auto_update': True, 'tbd': False, 'launch_library_id': None, 'id': '5eb87cdaffd86e000604b32b'}]\n"
     ]
    }
   ],
   "source": [
    "# Set the URL for the SpaceX API to fetch data\n",
    "URL = 'https://api.spacexdata.com/v4/launches'\n",
    "\n",
    "# Fetch data from the API\n",
    "response = requests.get(URL)\n",
    "\n",
    "# Check if the request was successful\n",
    "if response.status_code == 200:\n",
    "    # Parse the JSON response\n",
    "    data = response.json()\n",
    "    \n",
    "    # Print the JSON data\n",
    "    print(\"Fetched JSON data:\")\n",
    "    print(data[:2])  # Displaying only the first two entries for brevity\n",
    "else:\n",
    "    # Print an error message if the request was not successful\n",
    "    print(f\"Failed to fetch data. HTTP Status code: {response.status_code}\")"
   ]
  },
  {
   "cell_type": "markdown",
   "id": "476e95ae-2170-42a7-8527-82064be54d16",
   "metadata": {},
   "source": [
    "#### Transform Data into Tabular Format"
   ]
  },
  {
   "cell_type": "code",
   "execution_count": 3,
   "id": "1fd4862e-1141-4d78-a5a6-9454bf627ab2",
   "metadata": {},
   "outputs": [
    {
     "name": "stdout",
     "output_type": "stream",
     "text": [
      "Transformed data into tabular format.\n"
     ]
    }
   ],
   "source": [
    "# Check if the request was successful before transforming data\n",
    "if response.status_code == 200:\n",
    "    # Extract necessary data and convert it into a pandas DataFrame\n",
    "    # The JSON response contains a list of dictionaries with SpaceX launch details\n",
    "    launches_data = {\n",
    "        'Flight Number': [entry['flight_number'] for entry in data],\n",
    "        'Name': [entry['name'] for entry in data],\n",
    "        'Date': [entry['date_utc'] for entry in data],\n",
    "        'Success': [entry['success'] for entry in data],\n",
    "        'Rocket': [entry['rocket'] for entry in data],\n",
    "        'Crew': [entry.get('crew', []) for entry in data],\n",
    "        'Capsules': [entry.get('capsules', []) for entry in data],\n",
    "        'Landpads': [entry.get('landpads', []) for entry in data]\n",
    "    }\n",
    "\n",
    "    # Create a pandas DataFrame from the dictionary\n",
    "    df = pd.DataFrame(launches_data)\n",
    "    \n",
    "    # Print a message indicating successful transformation\n",
    "    print(\"Transformed data into tabular format.\")\n",
    "else:\n",
    "    # Print an error message if the request was not successful\n",
    "    print(f\"Failed to fetch data. HTTP Status code: {response.status_code}\")"
   ]
  },
  {
   "cell_type": "markdown",
   "id": "5620bb29-ca44-41eb-8890-5d17ad8537d8",
   "metadata": {},
   "source": [
    "#### Show the Tabular Formatted Data"
   ]
  },
  {
   "cell_type": "code",
   "execution_count": 4,
   "id": "42a7caa8-6a9a-4f38-8f0c-a65dab06e600",
   "metadata": {},
   "outputs": [
    {
     "data": {
      "text/html": [
       "<div>\n",
       "<style scoped>\n",
       "    .dataframe tbody tr th:only-of-type {\n",
       "        vertical-align: middle;\n",
       "    }\n",
       "\n",
       "    .dataframe tbody tr th {\n",
       "        vertical-align: top;\n",
       "    }\n",
       "\n",
       "    .dataframe thead th {\n",
       "        text-align: right;\n",
       "    }\n",
       "</style>\n",
       "<table border=\"1\" class=\"dataframe\">\n",
       "  <thead>\n",
       "    <tr style=\"text-align: right;\">\n",
       "      <th></th>\n",
       "      <th>Flight Number</th>\n",
       "      <th>Name</th>\n",
       "      <th>Date</th>\n",
       "      <th>Success</th>\n",
       "      <th>Rocket</th>\n",
       "      <th>Crew</th>\n",
       "      <th>Capsules</th>\n",
       "      <th>Landpads</th>\n",
       "    </tr>\n",
       "  </thead>\n",
       "  <tbody>\n",
       "    <tr>\n",
       "      <th>0</th>\n",
       "      <td>1</td>\n",
       "      <td>FalconSat</td>\n",
       "      <td>2006-03-24T22:30:00.000Z</td>\n",
       "      <td>False</td>\n",
       "      <td>5e9d0d95eda69955f709d1eb</td>\n",
       "      <td>[]</td>\n",
       "      <td>[]</td>\n",
       "      <td>[]</td>\n",
       "    </tr>\n",
       "    <tr>\n",
       "      <th>1</th>\n",
       "      <td>2</td>\n",
       "      <td>DemoSat</td>\n",
       "      <td>2007-03-21T01:10:00.000Z</td>\n",
       "      <td>False</td>\n",
       "      <td>5e9d0d95eda69955f709d1eb</td>\n",
       "      <td>[]</td>\n",
       "      <td>[]</td>\n",
       "      <td>[]</td>\n",
       "    </tr>\n",
       "    <tr>\n",
       "      <th>2</th>\n",
       "      <td>3</td>\n",
       "      <td>Trailblazer</td>\n",
       "      <td>2008-08-03T03:34:00.000Z</td>\n",
       "      <td>False</td>\n",
       "      <td>5e9d0d95eda69955f709d1eb</td>\n",
       "      <td>[]</td>\n",
       "      <td>[]</td>\n",
       "      <td>[]</td>\n",
       "    </tr>\n",
       "    <tr>\n",
       "      <th>3</th>\n",
       "      <td>4</td>\n",
       "      <td>RatSat</td>\n",
       "      <td>2008-09-28T23:15:00.000Z</td>\n",
       "      <td>True</td>\n",
       "      <td>5e9d0d95eda69955f709d1eb</td>\n",
       "      <td>[]</td>\n",
       "      <td>[]</td>\n",
       "      <td>[]</td>\n",
       "    </tr>\n",
       "    <tr>\n",
       "      <th>4</th>\n",
       "      <td>5</td>\n",
       "      <td>RazakSat</td>\n",
       "      <td>2009-07-13T03:35:00.000Z</td>\n",
       "      <td>True</td>\n",
       "      <td>5e9d0d95eda69955f709d1eb</td>\n",
       "      <td>[]</td>\n",
       "      <td>[]</td>\n",
       "      <td>[]</td>\n",
       "    </tr>\n",
       "  </tbody>\n",
       "</table>\n",
       "</div>"
      ],
      "text/plain": [
       "   Flight Number         Name                      Date Success  \\\n",
       "0              1    FalconSat  2006-03-24T22:30:00.000Z   False   \n",
       "1              2      DemoSat  2007-03-21T01:10:00.000Z   False   \n",
       "2              3  Trailblazer  2008-08-03T03:34:00.000Z   False   \n",
       "3              4       RatSat  2008-09-28T23:15:00.000Z    True   \n",
       "4              5     RazakSat  2009-07-13T03:35:00.000Z    True   \n",
       "\n",
       "                     Rocket Crew Capsules Landpads  \n",
       "0  5e9d0d95eda69955f709d1eb   []       []       []  \n",
       "1  5e9d0d95eda69955f709d1eb   []       []       []  \n",
       "2  5e9d0d95eda69955f709d1eb   []       []       []  \n",
       "3  5e9d0d95eda69955f709d1eb   []       []       []  \n",
       "4  5e9d0d95eda69955f709d1eb   []       []       []  "
      ]
     },
     "execution_count": 4,
     "metadata": {},
     "output_type": "execute_result"
    }
   ],
   "source": [
    "df.head()"
   ]
  },
  {
   "cell_type": "code",
   "execution_count": 5,
   "id": "ba5e27f5-6e6a-401f-8839-b6d47e88c093",
   "metadata": {},
   "outputs": [
    {
     "data": {
      "text/plain": [
       "(205, 8)"
      ]
     },
     "execution_count": 5,
     "metadata": {},
     "output_type": "execute_result"
    }
   ],
   "source": [
    "df.shape"
   ]
  },
  {
   "cell_type": "code",
   "execution_count": null,
   "id": "1f4ac924-7ce0-4829-83a4-43a3b6319b32",
   "metadata": {},
   "outputs": [],
   "source": []
  }
 ],
 "metadata": {
  "kernelspec": {
   "display_name": "Python 3 (ipykernel)",
   "language": "python",
   "name": "python3"
  },
  "language_info": {
   "codemirror_mode": {
    "name": "ipython",
    "version": 3
   },
   "file_extension": ".py",
   "mimetype": "text/x-python",
   "name": "python",
   "nbconvert_exporter": "python",
   "pygments_lexer": "ipython3",
   "version": "3.12.4"
  }
 },
 "nbformat": 4,
 "nbformat_minor": 5
}
